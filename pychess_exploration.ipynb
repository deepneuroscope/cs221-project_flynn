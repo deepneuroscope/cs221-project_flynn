{
 "cells": [
  {
   "cell_type": "code",
   "execution_count": 1,
   "id": "98a5288f-f4d8-40f6-98f9-4b916f3c90ce",
   "metadata": {},
   "outputs": [],
   "source": [
    "import chess"
   ]
  },
  {
   "cell_type": "code",
   "execution_count": 3,
   "id": "db7fd8dd-0dd7-4350-8bd9-fd7ca1b3d9b2",
   "metadata": {},
   "outputs": [],
   "source": [
    "board = chess.Board()"
   ]
  },
  {
   "cell_type": "code",
   "execution_count": 4,
   "id": "42ced8db-4a79-4d98-b746-6599f7b8992d",
   "metadata": {},
   "outputs": [],
   "source": [
    "board"
   ]
  },
  {
   "cell_type": "code",
   "execution_count": 5,
   "id": "53a6317f-baf1-4af0-9cfb-5c9325c20e5e",
   "metadata": {},
   "outputs": [],
   "source": [
    "Nf3 = chess.Move.from_uci(\"g1f3\")\n",
    "board.push(Nf3)"
   ]
  },
  {
   "cell_type": "code",
   "execution_count": 6,
   "id": "78fa4fcd-8bc1-4cc6-a8de-08a00a77bbbb",
   "metadata": {},
   "outputs": [],
   "source": [
    "board"
   ]
  },
  {
   "cell_type": "code",
   "execution_count": 7,
   "id": "af8d9d80-acea-4ec1-97ae-f9b3dd171206",
   "metadata": {},
   "outputs": [],
   "source": [
    "board.pop()\n",
    "board"
   ]
  },
  {
   "cell_type": "code",
   "execution_count": null,
   "id": "49928332-476b-4830-9a85-091d60c631d0",
   "metadata": {},
   "outputs": [],
   "source": []
  }
 ],
 "metadata": {
  "kernelspec": {
   "display_name": ".venv",
   "language": "python",
   "name": "python3"
  },
  "language_info": {
   "codemirror_mode": {
    "name": "ipython",
    "version": 3
   },
   "file_extension": ".py",
   "mimetype": "text/x-python",
   "name": "python",
   "nbconvert_exporter": "python",
   "pygments_lexer": "ipython3",
   "version": "3.10.13"
  }
 },
 "nbformat": 4,
 "nbformat_minor": 5
}
